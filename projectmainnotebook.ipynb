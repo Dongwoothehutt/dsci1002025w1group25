{
 "cells": [
  {
   "cell_type": "markdown",
   "id": "82b1cbc2-ec46-437a-8cb1-0ecd1703c63c",
   "metadata": {},
   "source": [
    "## Data Description\n",
    "\n",
    "### Overview\n",
    "\n",
    "- The dataset was collected by a UBC Computer Science research group studying how people play on a Minecraft server.  \n",
    "- Two datasets were provided:\n",
    "  - `players.csv` — player-level information such as demographics, skill, and newsletter subscription.\n",
    "  - `sessions.csv` — session-level information, where each row represents a single play session (with timestamps, duration, etc.).  \n",
    "- The data were collected automatically through server logs and voluntary player sign-ups.  \n"
   ]
  },
  {
   "cell_type": "code",
   "execution_count": 6,
   "id": "25f7c11b-45ab-41ed-b006-99aebf9c9852",
   "metadata": {},
   "outputs": [
    {
     "name": "stderr",
     "output_type": "stream",
     "text": [
      "\u001b[1mRows: \u001b[22m\u001b[34m196\u001b[39m \u001b[1mColumns: \u001b[22m\u001b[34m7\u001b[39m\n",
      "\u001b[36m──\u001b[39m \u001b[1mColumn specification\u001b[22m \u001b[36m────────────────────────────────────────────────────────\u001b[39m\n",
      "\u001b[1mDelimiter:\u001b[22m \",\"\n",
      "\u001b[31mchr\u001b[39m (4): experience, hashedEmail, name, gender\n",
      "\u001b[32mdbl\u001b[39m (2): played_hours, Age\n",
      "\u001b[33mlgl\u001b[39m (1): subscribe\n",
      "\n",
      "\u001b[36mℹ\u001b[39m Use `spec()` to retrieve the full column specification for this data.\n",
      "\u001b[36mℹ\u001b[39m Specify the column types or set `show_col_types = FALSE` to quiet this message.\n",
      "\u001b[1mRows: \u001b[22m\u001b[34m1535\u001b[39m \u001b[1mColumns: \u001b[22m\u001b[34m5\u001b[39m\n",
      "\u001b[36m──\u001b[39m \u001b[1mColumn specification\u001b[22m \u001b[36m────────────────────────────────────────────────────────\u001b[39m\n",
      "\u001b[1mDelimiter:\u001b[22m \",\"\n",
      "\u001b[31mchr\u001b[39m (3): hashedEmail, start_time, end_time\n",
      "\u001b[32mdbl\u001b[39m (2): original_start_time, original_end_time\n",
      "\n",
      "\u001b[36mℹ\u001b[39m Use `spec()` to retrieve the full column specification for this data.\n",
      "\u001b[36mℹ\u001b[39m Specify the column types or set `show_col_types = FALSE` to quiet this message.\n"
     ]
    },
    {
     "data": {
      "text/html": [
       "<table class=\"dataframe\">\n",
       "<caption>A tibble: 3 × 7</caption>\n",
       "<thead>\n",
       "\t<tr><th scope=col>experience</th><th scope=col>subscribe</th><th scope=col>hashedEmail</th><th scope=col>played_hours</th><th scope=col>name</th><th scope=col>gender</th><th scope=col>Age</th></tr>\n",
       "\t<tr><th scope=col>&lt;chr&gt;</th><th scope=col>&lt;lgl&gt;</th><th scope=col>&lt;chr&gt;</th><th scope=col>&lt;dbl&gt;</th><th scope=col>&lt;chr&gt;</th><th scope=col>&lt;chr&gt;</th><th scope=col>&lt;dbl&gt;</th></tr>\n",
       "</thead>\n",
       "<tbody>\n",
       "\t<tr><td>Pro    </td><td> TRUE</td><td>f6daba428a5e19a3d47574858c13550499be23603422e6a0ee9728f8b53e192d</td><td>30.3</td><td>Morgan   </td><td>Male</td><td> 9</td></tr>\n",
       "\t<tr><td>Veteran</td><td> TRUE</td><td>f3c813577c458ba0dfef80996f8f32c93b6e8af1fa939732842f2312358a88e9</td><td> 3.8</td><td>Christian</td><td>Male</td><td>17</td></tr>\n",
       "\t<tr><td>Veteran</td><td>FALSE</td><td>b674dd7ee0d24096d1c019615ce4d12b20fcbff12d79d3c5a9d2118eb7ccbb28</td><td> 0.0</td><td>Blake    </td><td>Male</td><td>17</td></tr>\n",
       "</tbody>\n",
       "</table>\n"
      ],
      "text/latex": [
       "A tibble: 3 × 7\n",
       "\\begin{tabular}{lllllll}\n",
       " experience & subscribe & hashedEmail & played\\_hours & name & gender & Age\\\\\n",
       " <chr> & <lgl> & <chr> & <dbl> & <chr> & <chr> & <dbl>\\\\\n",
       "\\hline\n",
       "\t Pro     &  TRUE & f6daba428a5e19a3d47574858c13550499be23603422e6a0ee9728f8b53e192d & 30.3 & Morgan    & Male &  9\\\\\n",
       "\t Veteran &  TRUE & f3c813577c458ba0dfef80996f8f32c93b6e8af1fa939732842f2312358a88e9 &  3.8 & Christian & Male & 17\\\\\n",
       "\t Veteran & FALSE & b674dd7ee0d24096d1c019615ce4d12b20fcbff12d79d3c5a9d2118eb7ccbb28 &  0.0 & Blake     & Male & 17\\\\\n",
       "\\end{tabular}\n"
      ],
      "text/markdown": [
       "\n",
       "A tibble: 3 × 7\n",
       "\n",
       "| experience &lt;chr&gt; | subscribe &lt;lgl&gt; | hashedEmail &lt;chr&gt; | played_hours &lt;dbl&gt; | name &lt;chr&gt; | gender &lt;chr&gt; | Age &lt;dbl&gt; |\n",
       "|---|---|---|---|---|---|---|\n",
       "| Pro     |  TRUE | f6daba428a5e19a3d47574858c13550499be23603422e6a0ee9728f8b53e192d | 30.3 | Morgan    | Male |  9 |\n",
       "| Veteran |  TRUE | f3c813577c458ba0dfef80996f8f32c93b6e8af1fa939732842f2312358a88e9 |  3.8 | Christian | Male | 17 |\n",
       "| Veteran | FALSE | b674dd7ee0d24096d1c019615ce4d12b20fcbff12d79d3c5a9d2118eb7ccbb28 |  0.0 | Blake     | Male | 17 |\n",
       "\n"
      ],
      "text/plain": [
       "  experience subscribe\n",
       "1 Pro         TRUE    \n",
       "2 Veteran     TRUE    \n",
       "3 Veteran    FALSE    \n",
       "  hashedEmail                                                      played_hours\n",
       "1 f6daba428a5e19a3d47574858c13550499be23603422e6a0ee9728f8b53e192d 30.3        \n",
       "2 f3c813577c458ba0dfef80996f8f32c93b6e8af1fa939732842f2312358a88e9  3.8        \n",
       "3 b674dd7ee0d24096d1c019615ce4d12b20fcbff12d79d3c5a9d2118eb7ccbb28  0.0        \n",
       "  name      gender Age\n",
       "1 Morgan    Male    9 \n",
       "2 Christian Male   17 \n",
       "3 Blake     Male   17 "
      ]
     },
     "metadata": {},
     "output_type": "display_data"
    },
    {
     "data": {
      "text/html": [
       "<table class=\"dataframe\">\n",
       "<caption>A tibble: 3 × 5</caption>\n",
       "<thead>\n",
       "\t<tr><th scope=col>hashedEmail</th><th scope=col>start_time</th><th scope=col>end_time</th><th scope=col>original_start_time</th><th scope=col>original_end_time</th></tr>\n",
       "\t<tr><th scope=col>&lt;chr&gt;</th><th scope=col>&lt;chr&gt;</th><th scope=col>&lt;chr&gt;</th><th scope=col>&lt;dbl&gt;</th><th scope=col>&lt;dbl&gt;</th></tr>\n",
       "</thead>\n",
       "<tbody>\n",
       "\t<tr><td>bfce39c89d6549f2bb94d8064d3ce69dc3d7e72b38f431d8aa0c4bf95ccee6bf</td><td>30/06/2024 18:12</td><td>30/06/2024 18:24</td><td>1.71977e+12</td><td>1.71977e+12</td></tr>\n",
       "\t<tr><td>36d9cbb4c6bc0c1a6911436d2da0d09ec625e43e6552f575d4acc9cf487c4686</td><td>17/06/2024 23:33</td><td>17/06/2024 23:46</td><td>1.71867e+12</td><td>1.71867e+12</td></tr>\n",
       "\t<tr><td>f8f5477f5a2e53616ae37421b1c660b971192bd8ff77e3398304c7ae42581fdc</td><td>25/07/2024 17:34</td><td>25/07/2024 17:57</td><td>1.72193e+12</td><td>1.72193e+12</td></tr>\n",
       "</tbody>\n",
       "</table>\n"
      ],
      "text/latex": [
       "A tibble: 3 × 5\n",
       "\\begin{tabular}{lllll}\n",
       " hashedEmail & start\\_time & end\\_time & original\\_start\\_time & original\\_end\\_time\\\\\n",
       " <chr> & <chr> & <chr> & <dbl> & <dbl>\\\\\n",
       "\\hline\n",
       "\t bfce39c89d6549f2bb94d8064d3ce69dc3d7e72b38f431d8aa0c4bf95ccee6bf & 30/06/2024 18:12 & 30/06/2024 18:24 & 1.71977e+12 & 1.71977e+12\\\\\n",
       "\t 36d9cbb4c6bc0c1a6911436d2da0d09ec625e43e6552f575d4acc9cf487c4686 & 17/06/2024 23:33 & 17/06/2024 23:46 & 1.71867e+12 & 1.71867e+12\\\\\n",
       "\t f8f5477f5a2e53616ae37421b1c660b971192bd8ff77e3398304c7ae42581fdc & 25/07/2024 17:34 & 25/07/2024 17:57 & 1.72193e+12 & 1.72193e+12\\\\\n",
       "\\end{tabular}\n"
      ],
      "text/markdown": [
       "\n",
       "A tibble: 3 × 5\n",
       "\n",
       "| hashedEmail &lt;chr&gt; | start_time &lt;chr&gt; | end_time &lt;chr&gt; | original_start_time &lt;dbl&gt; | original_end_time &lt;dbl&gt; |\n",
       "|---|---|---|---|---|\n",
       "| bfce39c89d6549f2bb94d8064d3ce69dc3d7e72b38f431d8aa0c4bf95ccee6bf | 30/06/2024 18:12 | 30/06/2024 18:24 | 1.71977e+12 | 1.71977e+12 |\n",
       "| 36d9cbb4c6bc0c1a6911436d2da0d09ec625e43e6552f575d4acc9cf487c4686 | 17/06/2024 23:33 | 17/06/2024 23:46 | 1.71867e+12 | 1.71867e+12 |\n",
       "| f8f5477f5a2e53616ae37421b1c660b971192bd8ff77e3398304c7ae42581fdc | 25/07/2024 17:34 | 25/07/2024 17:57 | 1.72193e+12 | 1.72193e+12 |\n",
       "\n"
      ],
      "text/plain": [
       "  hashedEmail                                                     \n",
       "1 bfce39c89d6549f2bb94d8064d3ce69dc3d7e72b38f431d8aa0c4bf95ccee6bf\n",
       "2 36d9cbb4c6bc0c1a6911436d2da0d09ec625e43e6552f575d4acc9cf487c4686\n",
       "3 f8f5477f5a2e53616ae37421b1c660b971192bd8ff77e3398304c7ae42581fdc\n",
       "  start_time       end_time         original_start_time original_end_time\n",
       "1 30/06/2024 18:12 30/06/2024 18:24 1.71977e+12         1.71977e+12      \n",
       "2 17/06/2024 23:33 17/06/2024 23:46 1.71867e+12         1.71867e+12      \n",
       "3 25/07/2024 17:34 25/07/2024 17:57 1.72193e+12         1.72193e+12      "
      ]
     },
     "metadata": {},
     "output_type": "display_data"
    }
   ],
   "source": [
    "library(tidyverse)\n",
    "\n",
    "# Loading the datasets\n",
    "players <- read_csv(\"players.csv\")\n",
    "sessions <- read_csv(\"sessions.csv\")\n",
    "\n",
    "# Observe the first 3 rows\n",
    "head(players, 3)\n",
    "head(sessions, 3)"
   ]
  },
  {
   "cell_type": "markdown",
   "id": "ac784ef6-d811-49a0-87bc-e9ab3a0a4c99",
   "metadata": {},
   "source": [
    "The datasets were successfully loaded into R.\n",
    "The preview above shows the first few rows from both files, confirming that each dataset has multiple variables related to player information and session activity.\n",
    "Each row in players.csv represents one unique player, while each row in sessions.csv represents one play session recorded on the Minecraft server."
   ]
  },
  {
   "cell_type": "code",
   "execution_count": 5,
   "id": "94f72d96-283b-4da0-b7d0-3dc7d6480151",
   "metadata": {},
   "outputs": [
    {
     "data": {
      "text/html": [
       "<table class=\"dataframe\">\n",
       "<caption>A tibble: 2 × 3</caption>\n",
       "<thead>\n",
       "\t<tr><th scope=col>dataset</th><th scope=col>rows</th><th scope=col>columns</th></tr>\n",
       "\t<tr><th scope=col>&lt;chr&gt;</th><th scope=col>&lt;int&gt;</th><th scope=col>&lt;int&gt;</th></tr>\n",
       "</thead>\n",
       "<tbody>\n",
       "\t<tr><td>players.csv </td><td> 196</td><td>7</td></tr>\n",
       "\t<tr><td>sessions.csv</td><td>1535</td><td>5</td></tr>\n",
       "</tbody>\n",
       "</table>\n"
      ],
      "text/latex": [
       "A tibble: 2 × 3\n",
       "\\begin{tabular}{lll}\n",
       " dataset & rows & columns\\\\\n",
       " <chr> & <int> & <int>\\\\\n",
       "\\hline\n",
       "\t players.csv  &  196 & 7\\\\\n",
       "\t sessions.csv & 1535 & 5\\\\\n",
       "\\end{tabular}\n"
      ],
      "text/markdown": [
       "\n",
       "A tibble: 2 × 3\n",
       "\n",
       "| dataset &lt;chr&gt; | rows &lt;int&gt; | columns &lt;int&gt; |\n",
       "|---|---|---|\n",
       "| players.csv  |  196 | 7 |\n",
       "| sessions.csv | 1535 | 5 |\n",
       "\n"
      ],
      "text/plain": [
       "  dataset      rows columns\n",
       "1 players.csv   196 7      \n",
       "2 sessions.csv 1535 5      "
      ]
     },
     "metadata": {},
     "output_type": "display_data"
    }
   ],
   "source": [
    "data_shapes <- tibble(\n",
    "  dataset = c(\"players.csv\", \"sessions.csv\"),\n",
    "  rows    = c(nrow(players), nrow(sessions)),\n",
    "  columns = c(ncol(players), ncol(sessions))\n",
    ")\n",
    "\n",
    "data_shapes"
   ]
  },
  {
   "cell_type": "markdown",
   "id": "2519a6d5-7248-4c2f-a5d8-4f2d8631170e",
   "metadata": {},
   "source": [
    "The table above summarizes the size of each dataset.  \n",
    "- **Rows** = number of observations (records).  \n",
    "- **Columns** = number of variables (features).  \n",
    "`players.csv` contains player-level data, and `sessions.csv` contains session-level data.\n"
   ]
  },
  {
   "cell_type": "code",
   "execution_count": 8,
   "id": "2ec495d9-4671-43df-9d9d-391def94c719",
   "metadata": {},
   "outputs": [
    {
     "name": "stdout",
     "output_type": "stream",
     "text": [
      "spc_tbl_ [196 × 7] (S3: spec_tbl_df/tbl_df/tbl/data.frame)\n",
      " $ experience  : chr [1:196] \"Pro\" \"Veteran\" \"Veteran\" \"Amateur\" ...\n",
      " $ subscribe   : logi [1:196] TRUE TRUE FALSE TRUE TRUE TRUE ...\n",
      " $ hashedEmail : chr [1:196] \"f6daba428a5e19a3d47574858c13550499be23603422e6a0ee9728f8b53e192d\" \"f3c813577c458ba0dfef80996f8f32c93b6e8af1fa939732842f2312358a88e9\" \"b674dd7ee0d24096d1c019615ce4d12b20fcbff12d79d3c5a9d2118eb7ccbb28\" \"23fe711e0e3b77f1da7aa221ab1192afe21648d47d2b4fa7a5a659ff443a0eb5\" ...\n",
      " $ played_hours: num [1:196] 30.3 3.8 0 0.7 0.1 0 0 0 0.1 0 ...\n",
      " $ name        : chr [1:196] \"Morgan\" \"Christian\" \"Blake\" \"Flora\" ...\n",
      " $ gender      : chr [1:196] \"Male\" \"Male\" \"Male\" \"Female\" ...\n",
      " $ Age         : num [1:196] 9 17 17 21 21 17 19 21 47 22 ...\n",
      " - attr(*, \"spec\")=\n",
      "  .. cols(\n",
      "  ..   experience = \u001b[31mcol_character()\u001b[39m,\n",
      "  ..   subscribe = \u001b[33mcol_logical()\u001b[39m,\n",
      "  ..   hashedEmail = \u001b[31mcol_character()\u001b[39m,\n",
      "  ..   played_hours = \u001b[32mcol_double()\u001b[39m,\n",
      "  ..   name = \u001b[31mcol_character()\u001b[39m,\n",
      "  ..   gender = \u001b[31mcol_character()\u001b[39m,\n",
      "  ..   Age = \u001b[32mcol_double()\u001b[39m\n",
      "  .. )\n",
      " - attr(*, \"problems\")=<externalptr> \n",
      "spc_tbl_ [1,535 × 5] (S3: spec_tbl_df/tbl_df/tbl/data.frame)\n",
      " $ hashedEmail        : chr [1:1535] \"bfce39c89d6549f2bb94d8064d3ce69dc3d7e72b38f431d8aa0c4bf95ccee6bf\" \"36d9cbb4c6bc0c1a6911436d2da0d09ec625e43e6552f575d4acc9cf487c4686\" \"f8f5477f5a2e53616ae37421b1c660b971192bd8ff77e3398304c7ae42581fdc\" \"bfce39c89d6549f2bb94d8064d3ce69dc3d7e72b38f431d8aa0c4bf95ccee6bf\" ...\n",
      " $ start_time         : chr [1:1535] \"30/06/2024 18:12\" \"17/06/2024 23:33\" \"25/07/2024 17:34\" \"25/07/2024 03:22\" ...\n",
      " $ end_time           : chr [1:1535] \"30/06/2024 18:24\" \"17/06/2024 23:46\" \"25/07/2024 17:57\" \"25/07/2024 03:58\" ...\n",
      " $ original_start_time: num [1:1535] 1.72e+12 1.72e+12 1.72e+12 1.72e+12 1.72e+12 ...\n",
      " $ original_end_time  : num [1:1535] 1.72e+12 1.72e+12 1.72e+12 1.72e+12 1.72e+12 ...\n",
      " - attr(*, \"spec\")=\n",
      "  .. cols(\n",
      "  ..   hashedEmail = \u001b[31mcol_character()\u001b[39m,\n",
      "  ..   start_time = \u001b[31mcol_character()\u001b[39m,\n",
      "  ..   end_time = \u001b[31mcol_character()\u001b[39m,\n",
      "  ..   original_start_time = \u001b[32mcol_double()\u001b[39m,\n",
      "  ..   original_end_time = \u001b[32mcol_double()\u001b[39m\n",
      "  .. )\n",
      " - attr(*, \"problems\")=<externalptr> \n"
     ]
    }
   ],
   "source": [
    "# Check structure of each dataset\n",
    "str(players)\n",
    "str(sessions)"
   ]
  },
  {
   "cell_type": "markdown",
   "id": "bf3cb5cd-4cd7-408f-9531-3bf857d698f5",
   "metadata": {},
   "source": [
    "### Variable Summary (players.csv)\n",
    "\n",
    "| Variable | Type | Description |\n",
    "|-----------|------|-------------|\n",
    "| experience | character | Player’s reported experience level (e.g., Pro, Veteran, Amateur). |\n",
    "| subscribe | logical (TRUE/FALSE) | Whether the player subscribed to the newsletter. |\n",
    "| hashedEmail | character | Hashed email ID used to match between files. |\n",
    "| played_hours | numeric | Total hours the player has played. |\n",
    "| name | character | Player name (not used for modeling). |\n",
    "| gender | character | Gender identity of the player. |\n",
    "| Age | numeric | Age of the player in years. |\n",
    "\n",
    "---\n",
    "\n",
    "### Variable Summary (sessions.csv)\n",
    "\n",
    "| Variable | Type | Description |\n",
    "|-----------|------|-------------|\n",
    "| hashedEmail | character | Key linking each session to a player. |\n",
    "| start_time | character | Start time of the game session. |\n",
    "| end_time | character | End time of the game session. |\n",
    "| original_start_time | numeric | Timestamp version of start_time. |\n",
    "| original_end_time | numeric | Timestamp version of end_time. |\n",
    "\n",
    "---\n",
    "\n",
    "**Notes**\n",
    "- `subscribe` is likely the best outcome (response) variable for prediction.  \n",
    "- `played_hours` and `experience` might be useful explanatory variables.  \n",
    "- Missing values appear minimal.  \n",
    "- Player-level data (`players.csv`) and session-level data (`sessions.csv`) can be joined via `hashedEmail` if needed.\n"
   ]
  },
  {
   "cell_type": "code",
   "execution_count": null,
   "id": "f48d2e5e-4175-4dce-bf7f-33c2f4823811",
   "metadata": {},
   "outputs": [],
   "source": []
  }
 ],
 "metadata": {
  "kernelspec": {
   "display_name": "R",
   "language": "R",
   "name": "ir"
  },
  "language_info": {
   "codemirror_mode": "r",
   "file_extension": ".r",
   "mimetype": "text/x-r-source",
   "name": "R",
   "pygments_lexer": "r",
   "version": "4.4.3"
  }
 },
 "nbformat": 4,
 "nbformat_minor": 5
}
